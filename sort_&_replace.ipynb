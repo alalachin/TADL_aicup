{
 "cells": [
  {
   "cell_type": "code",
   "execution_count": 90,
   "metadata": {},
   "outputs": [],
   "source": [
    "import pandas as pd\n",
    "import csv\n",
    "\n",
    "NC1 = pd.read_csv(\"fileName1.csv\")\n",
    "NC2 = pd.read_csv(\"fileName2.csv\")\n",
    "\n",
    "sortColumn = \"cloumnName\"\n",
    "merge = pd.concat([NC1, NC2], axis=0)           # 串接兩個 dataframe\n",
    "merge = merge.sort_values(by = sortColumn)      # 依據 sortColumn 排序\n",
    "merge.duplicated(sortColumn)                    # 標記重複的資料（第n筆）\n",
    "merge.drop_duplicates(sortColumn, inplace=True) # 刪除（被標記的）重複資料\n",
    "\n",
    "merge.to_csv('outputFile.csv', index=False, encoding='utf-8')\n"
   ]
  }
 ],
 "metadata": {
  "kernelspec": {
   "display_name": "Python 3",
   "language": "python",
   "name": "python3"
  },
  "language_info": {
   "codemirror_mode": {
    "name": "ipython",
    "version": 3
   },
   "file_extension": ".py",
   "mimetype": "text/x-python",
   "name": "python",
   "nbconvert_exporter": "python",
   "pygments_lexer": "ipython3",
   "version": "3.7.1"
  }
 },
 "nbformat": 4,
 "nbformat_minor": 2
}
