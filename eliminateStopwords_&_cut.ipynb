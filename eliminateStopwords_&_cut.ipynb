{
 "cells": [
  {
   "cell_type": "code",
   "execution_count": null,
   "metadata": {},
   "outputs": [],
   "source": [
    "import jieba\n",
    "jieba.set_dictionary('dict.big.txt')\n",
    "with open('stopWords.txt', 'r', encoding='utf8') as f:  # 中文停用字\n",
    "    stops = f.read().split('\\n')"
   ]
  },
  {
   "cell_type": "code",
   "execution_count": 76,
   "metadata": {},
   "outputs": [],
   "source": [
    "import pandas as pd\n",
    "fileName = \"name.csv\"\n",
    "index = \"Index\"\n",
    "content = \"Text\"\n",
    "\n",
    "def Grab(f_name, ind_name, cont_name):\n",
    "    \n",
    "    NC_index = pd.read_csv(f_name, usecols=[ind_name])\n",
    "    length = NC_index.shape[0]\n",
    "    conts_index = []\n",
    "    for i in range(length):\n",
    "        conts_index.append(\"news_\" + \"{:0>6d}\".format(NC_index[ind_name][i]) )\n",
    "    \n",
    "    NC = pd.read_csv(f_name, usecols=[cont_name])\n",
    "    conts = []\n",
    "    for i in range(length):\n",
    "        conts.append(NC[cont_name][i])\n",
    "        \n",
    "    collection = []\n",
    "    for i in range(length):\n",
    "        piece = []\n",
    "        piece.append(conts_index[i])\n",
    "        piece.append([t for t in jieba.cut(conts[i], cut_all=False) if t not in stops])\n",
    "        collection.append(piece)\n",
    "    \n",
    "    return collection\n",
    "\n",
    "dataset = Grab(fileName, index, content)"
   ]
  },
  {
   "cell_type": "code",
   "execution_count": 77,
   "metadata": {},
   "outputs": [],
   "source": [
    "import csv\n",
    "\n",
    "with open('noStopwords_cut_'+ fileName, 'w', newline='') as csvfile:\n",
    "    writer = csv.writer(csvfile)\n",
    "    writer.writerow(['Index', 'Cut'])\n",
    "\n",
    "    for i in range(len(dataset)):\n",
    "        writer.writerow(dataset[i])"
   ]
  }
 ],
 "metadata": {
  "kernelspec": {
   "display_name": "Python 3",
   "language": "python",
   "name": "python3"
  },
  "language_info": {
   "codemirror_mode": {
    "name": "ipython",
    "version": 3
   },
   "file_extension": ".py",
   "mimetype": "text/x-python",
   "name": "python",
   "nbconvert_exporter": "python",
   "pygments_lexer": "ipython3",
   "version": "3.7.1"
  }
 },
 "nbformat": 4,
 "nbformat_minor": 2
}
