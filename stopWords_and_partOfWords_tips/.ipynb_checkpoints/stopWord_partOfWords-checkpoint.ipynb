{
 "cells": [
  {
   "cell_type": "markdown",
   "metadata": {},
   "source": [
    "參考網址：https://ithelp.ithome.com.tw/articles/10192043"
   ]
  },
  {
   "cell_type": "code",
   "execution_count": 1,
   "metadata": {},
   "outputs": [],
   "source": [
    "import jieba\n",
    "jieba.set_dictionary('dict.big.txt')\n",
    "with open('stopWords.txt', 'r', encoding='utf8') as f:  # 中文停用字\n",
    "    stops = f.read().split('\\n')"
   ]
  },
  {
   "cell_type": "markdown",
   "metadata": {},
   "source": [
    "### 斷詞\n",
    "結巴的斷詞分成兩個模式：<br>\n",
    "**精準模式**：只找到系統演算出最精準的斷詞可能<br>\n",
    "**全斷詞模式**：則是把所有可能的斷詞模式列出來<br>\n",
    "如果你想要用來做文本分析，句子又沒有很長的的時候，建議可以使用全斷詞模式，可以增加文跟文章之間的可比性<br>"
   ]
  },
  {
   "cell_type": "code",
   "execution_count": 2,
   "metadata": {},
   "outputs": [
    {
     "name": "stderr",
     "output_type": "stream",
     "text": [
      "Building prefix dict from /Users/lihsuanchin/Jupyter/文本分析/自然語言處理/dict.big.txt ...\n",
      "Loading model from cache /var/folders/9m/v3nylhk51tjdmmzzt4ggzf9h0000gn/T/jieba.u3a50f263214cd7893810860d43cfbfa9.cache\n",
      "Loading model cost 1.177 seconds.\n",
      "Prefix dict has been built succesfully.\n"
     ]
    },
    {
     "name": "stdout",
     "output_type": "stream",
     "text": [
      "['下雨天', '留客', '天留', '我', '不留']\n",
      "['下雨', '下雨天', '雨天', '留客', '天', '留', '我', '不留']\n"
     ]
    }
   ],
   "source": [
    "print([t for t in jieba.cut('下雨天留客天留我不留')])\n",
    "print([t for t in jieba.cut('下雨天留客天留我不留', cut_all=True)])"
   ]
  },
  {
   "cell_type": "markdown",
   "metadata": {},
   "source": [
    "### Import套件並把文章載入"
   ]
  },
  {
   "cell_type": "code",
   "execution_count": 2,
   "metadata": {},
   "outputs": [],
   "source": [
    "from collections import Counter\n",
    "import pandas as pd\n",
    "\n",
    "testStr = pd.read_csv(\"example.csv\", usecols=['Text'])\n",
    "testStr = list(testStr['Text'])"
   ]
  },
  {
   "cell_type": "markdown",
   "metadata": {},
   "source": [
    "### 斷詞、去除停用字、計算詞頻"
   ]
  },
  {
   "cell_type": "code",
   "execution_count": 4,
   "metadata": {},
   "outputs": [],
   "source": [
    "terms = [t for t in jieba.cut(testStr[0], cut_all=True) if t not in stops]\n",
    "ans = sorted(Counter(terms).items(), key=lambda x:x[1], reverse=True) "
   ]
  },
  {
   "cell_type": "code",
   "execution_count": 5,
   "metadata": {},
   "outputs": [
    {
     "name": "stdout",
     "output_type": "stream",
     "text": [
      "[('比特', 5), ('犬', 5), ('鬥牛', 4), ('法', 3), ('n', 3), ('擋', 2), ('惡', 2), ('領養', 2), ('The', 2), ('Dodo', 2), ('報導', 2), ('蒙特', 2), ('蒙特婁', 2), ('一個', 2), ('法案', 2), ('鬥牛犬', 2), ('完全', 2), ('動物', 2), ('SPCA', 2), ('段', 2), ('繼續', 2), ('家', 2), ('粉絲', 2), ('品種', 2), ('牠', 2), ('更多', 2), ('請', 2), ('蘋果', 2), ('動', 1), ('保', 1), ('團體', 1), ('網站', 1), ('加拿', 1), ('加拿大', 1), ('Montreal', 1), ('當地', 1), ('禁止', 1), ('能到', 1), ('收容', 1), ('收容所', 1), ('安樂', 1), ('安樂死', 1), ('樂死', 1), ('但因', 1), ('防止', 1), ('虐待', 1), ('協會', 1), ('上訴', 1), ('法官', 1), ('暫時', 1), ('推遲', 1), ('律師', 1), ('Sophie', 1), ('Gaillard', 1), ('表示', 1), ('此法', 1), ('廢止', 1), ('路', 1), ('走', 1), ('無疑', 1), ('帶來', 1), ('希望', 1), ('高興', 1), ('幫', 1), ('狗狗', 1), ('找', 1), ('力', 1), ('頁', 1), ('上傳', 1), ('聲援', 1), ('影片', 1), ('強調', 1), ('生來', 1), ('兇惡', 1), ('主人', 1), ('訓練', 1), ('呼籲', 1), ('眾', 1), ('不應', 1), ('應有', 1), ('差別', 1), ('差別待遇', 1), ('待遇', 1), ('支持', 1), ('修', 1), ('Pitbull', 1), ('數種', 1), ('總稱', 1), ('主要', 1), ('美國', 1), ('斯塔', 1), ('福', 1), ('郡', 1), ('性情', 1), ('兇猛', 1), ('飼主', 1), ('忠誠', 1), ('陌生', 1), ('陌生人', 1), ('生人', 1), ('敵意', 1), ('台', 1), ('灣', 1), ('農委', 1), ('農委會', 1), ('委會', 1), ('列', 1), ('具', 1), ('攻擊', 1), ('攻擊性', 1), ('寵物', 1), ('令', 1), ('出入', 1), ('公共', 1), ('公共場所', 1), ('場所', 1), ('時', 1), ('需有', 1), ('有成', 1), ('成年人', 1), ('陪同', 1), ('並以', 1), ('長度', 1), ('超過', 1), ('公尺', 1), ('繩', 1), ('鍊', 1), ('牽引', 1), ('配戴', 1), ('影響', 1), ('散熱', 1), ('透氣', 1), ('氣口', 1), ('口罩', 1), ('違反', 1), ('反將', 1), ('保護', 1), ('保護法', 1), ('護法', 1), ('處罰', 1), ('廖', 1), ('葆', 1), ('綜合', 1), ('合報', 1), ('內容', 1), ('毛', 1), ('愛', 1), ('果粉', 1), ('粉絲團', 1), ('資訊', 1), ('吃喝', 1), ('吃喝玩樂', 1), ('玩樂', 1), ('蘋果花', 1)]\n"
     ]
    }
   ],
   "source": [
    "print (ans)"
   ]
  },
  {
   "cell_type": "markdown",
   "metadata": {},
   "source": [
    "### 詞性"
   ]
  },
  {
   "cell_type": "code",
   "execution_count": 6,
   "metadata": {},
   "outputs": [],
   "source": [
    "import jieba.posseg as pseg"
   ]
  },
  {
   "cell_type": "code",
   "execution_count": 7,
   "metadata": {},
   "outputs": [],
   "source": [
    "termsss = [t for t in jieba.posseg.cut(testStr[0]) if t not in stops and t.flag!='x']\n",
    "t = list(termsss)\n",
    "# for i in t:\n",
    "#     print (i.word, i.flag)"
   ]
  },
  {
   "cell_type": "code",
   "execution_count": 9,
   "metadata": {},
   "outputs": [
    {
     "name": "stdout",
     "output_type": "stream",
     "text": [
      "[pair('動保', 'j'), pair('團體', 'n'), pair('擋', 'v'), pair('惡法', 'n'), pair('比特', 'nrt'), pair('犬', 'ng'), pair('領養', 'n'), pair('網站', 'n'), pair('The', 'eng'), pair('Dodo', 'eng'), pair('報導', 'n'), pair('加拿大', 'ns'), pair('蒙特婁', 'nr'), pair('Montreal', 'eng'), pair('一個', 'm'), pair('法案', 'n'), pair('鬥牛犬', 'i'), pair('當地', 's'), pair('完全', 'ad'), pair('禁止', 'v'), pair('收容所', 'n'), pair('領養', 'n'), pair('所內', 'b'), pair('比特', 'nrt'), pair('犬', 'ng'), pair('安樂死', 'nr'), pair('但因為', 'c'), pair('蒙特婁', 'nr'), pair('防止', 'v'), pair('虐待', 'v'), pair('動物', 'n'), pair('協會', 'n'), pair('SPCA', 'eng'), pair('上訴', 'v'), pair('法官', 'n'), pair('暫時', 'd'), pair('推遲', 'v'), pair('法案', 'n'), pair('SPCA', 'eng'), pair('律師', 'n'), pair('Sophie', 'eng'), pair('Gaillard', 'eng'), pair('表示', 'v'), pair('此法', 'r'), pair('完全', 'ad'), pair('廢止', 'v'), pair('段', 'q'), pair('路', 'n'), pair('走', 'v'), pair('無疑', 'd'), pair('帶來', 'v'), pair('希望', 'v'), pair('高興', 'b'), pair('繼續', 'v'), pair('幫', 'v'), pair('狗狗', 'n'), pair('找', 'v'), pair('個家', 'n'), pair('繼續', 'v'), pair('力擋', 'n'), pair('惡法', 'n'), pair('The', 'eng'), pair('Dodo', 'eng'), pair('粉絲', 'n'), pair('頁', 'm'), pair('上傳', 'v'), pair('段', 'q'), pair('聲援', 'n'), pair('比特', 'nrt'), pair('犬', 'ng'), pair('影片', 'n'), pair('強調', 'v'), pair('比特', 'nrt'), pair('犬', 'ng'), pair('生來', 'v'), pair('兇惡', 'a'), pair('主人', 'n'), pair('訓練', 'vn'), pair('呼籲', 'v'), pair('大眾', 'n'), pair('應有', 'v'), pair('差別待遇', 'l'), pair('支持', 'v'), pair('修法', 'v'), pair('比特', 'nrt'), pair('犬', 'ng'), pair('Pitbull', 'eng'), pair('一個', 'm'), pair('品種', 'n'), pair('數種', 'm'), pair('鬥牛犬', 'i'), pair('總稱', 'n'), pair('主要', 'b'), pair('品種', 'n'), pair('鬥牛', 'nz'), pair('美國', 'ns'), pair('斯塔', 'nrt'), pair('福郡', 'nr'), pair('鬥牛', 'nz'), pair('牠', 'y'), pair('性情', 'n'), pair('兇猛', 'a'), pair('飼主', 'v'), pair('忠誠', 'a'), pair('陌生人', 'n'), pair('敵意', 'n'), pair('台灣', 'ns'), pair('牠', 'y'), pair('農委會', 'nt'), pair('列為', 'v'), pair('具', 'v'), pair('攻擊性', 'n'), pair('寵物', 'n'), pair('令', 'v'), pair('出入', 'v'), pair('公共場所', 'nt'), pair('時', 'zg'), pair('需', 'v'), pair('成年人', 'n'), pair('陪同', 'v'), pair('長度', 'ns'), pair('超過', 'v'), pair('1.5', 'm'), pair('公尺', 'q'), pair('繩', 'vg'), pair('鍊', 'zg'), pair('牽引', 'v'), pair('配戴', 'v'), pair('影響', 'vn'), pair('散熱', 'v'), pair('透氣', 'n'), pair('口罩', 'n'), pair('違反', 'v'), pair('動物', 'n'), pair('保護法', 'n'), pair('處罰', 'v'), pair('廖家葆', 'nr'), pair('綜合', 'vn'), pair('報導', 'n'), pair('n', 'eng'), pair('更多', 'd'), pair('內容', 'n'), pair('請', 'v'), pair('毛愛', 'nr'), pair('蘋果', 'n'), pair('粉絲團', 'n'), pair('n', 'eng'), pair('更多', 'd'), pair('資訊', 'n'), pair('請', 'v'), pair('吃喝玩樂', 'i'), pair('蘋果花', 'n')]\n",
      "----------------------------------------------\n",
      "[pair('動漫', 'n'), pair('集', 'q'), pair('肚子痛', 'n'), pair('就要', 'd'), pair('就醫', 'v'), pair('懂嗎', 'v'), pair('恐怖', 'a'), pair('新聞', 'n'), pair('獨家報導', 'n'), pair('n', 'eng'), pair('高橋', 'nr'), pair('鬼形', 'n'), pair('一直', 'd'), pair('尋找', 'v'), pair('生靈', 'n'), pair('出現', 'v'), pair('線索', 'n'), pair('直至', 'v'), pair('高', 'a'), pair('橋', 'n'), pair('想起', 'v'), pair('小時候', 'n'), pair('肚子', 'n'), pair('裡', 'f'), pair('有個', 'r'), pair('器官', 'n'), pair('東西', 'ns'), pair('.....', 'm'), pair('恐怖', 'a'), pair('新聞', 'n'), pair('日本', 'ns'), pair('鬼才', 'n'), pair('監督', 'vn'), pair('廣井王子', 'nr'), pair('領導', 'n'), pair('創意', 'v'), pair('團隊', 'n'), pair('最新', 'd'), pair('作品', 'n'), pair('改編自', 'nz'), pair('日本', 'ns'), pair('知名', 'v'), pair('恐怖', 'a'), pair('漫畫', 'n'), pair('大師', 'n'), pair('角田次朗', 'nz'), pair('作品', 'n'), pair('運用', 'vn'), pair('先進', 'a'), pair('技術', 'n'), pair('漫畫', 'n'), pair('格裡', 'nrt'), pair('人物', 'n'), pair('成為', 'v'), pair('立體', 'n'), pair('D', 'eng'), pair('動畫', 'n'), pair('使用', 'v'), pair('手機', 'n'), pair('輕鬆', 'a'), pair('收看', 'v'), pair('最', 'd'), pair('忠於', 'v'), pair('原著', 'n'), pair('D', 'eng'), pair('動漫畫', 'n'), pair('喜愛', 'v'), pair('動漫', 'n'), pair('別錯過', 'l'), pair('喜歡', 'v'), pair('動漫', 'n'), pair('恐怖', 'a'), pair('新聞', 'n'), pair('火影忍者', 'n'), pair('疾風', 'n'), pair('Fate', 'eng'), pair('Zero', 'eng'), pair('喪', 'v'), pair('B', 'eng'), pair('樂園', 'n'), pair('死神', 'n'), pair('眾多', 'm'), pair('當紅', 'n'), pair('動漫', 'n'), pair('nxTomo', 'eng'), pair('動漫', 'n'), pair('集', 'q'), pair('全天候', 'n'), pair('選隨', 'v'), pair('免費', 'vn'), pair('放送', 'v'), pair('喜愛', 'v'), pair('動畫', 'n'), pair('漫畫', 'n'), pair('別錯過', 'l'), pair('nAndroid', 'eng'), pair('下載', 'v'), pair('請', 'v'), pair('點', 'q'), pair('http', 'eng'), pair('goo', 'eng'), pair('gl', 'eng'), pair('NwXqG', 'eng'), pair('niOS', 'eng'), pair('下載', 'v'), pair('請', 'v'), pair('點', 'q'), pair('http', 'eng'), pair('bit', 'eng'), pair('ly', 'eng'), pair('qNhSdl', 'eng')]\n",
      "----------------------------------------------\n"
     ]
    }
   ],
   "source": [
    "for piece in testStr:\n",
    "    # print (piece)\n",
    "    seged = jieba.posseg.cut(piece)\n",
    "    \n",
    "    partOfWord = []    \n",
    "    for i in seged:\n",
    "        if i.word not in stops and i.flag!='x':\n",
    "            partOfWord.append(i)        \n",
    "    print (partOfWord)\n",
    "    print (\"----------------------------------------------\")"
   ]
  },
  {
   "cell_type": "code",
   "execution_count": null,
   "metadata": {},
   "outputs": [],
   "source": []
  }
 ],
 "metadata": {
  "kernelspec": {
   "display_name": "Python 3",
   "language": "python",
   "name": "python3"
  },
  "language_info": {
   "codemirror_mode": {
    "name": "ipython",
    "version": 3
   },
   "file_extension": ".py",
   "mimetype": "text/x-python",
   "name": "python",
   "nbconvert_exporter": "python",
   "pygments_lexer": "ipython3",
   "version": "3.7.1"
  }
 },
 "nbformat": 4,
 "nbformat_minor": 2
}
